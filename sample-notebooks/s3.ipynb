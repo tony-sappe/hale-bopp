{
 "cells": [
  {
   "cell_type": "code",
   "execution_count": 1,
   "id": "5ff5d706-5fea-4be4-9bd0-29a3570f9db1",
   "metadata": {},
   "outputs": [],
   "source": [
    "import boto3\n",
    "import os"
   ]
  },
  {
   "cell_type": "code",
   "execution_count": 5,
   "id": "507272ae-ba5d-4eb7-8dcc-07d8485fa915",
   "metadata": {},
   "outputs": [
    {
     "name": "stdout",
     "output_type": "stream",
     "text": [
      "testAccessKey\n",
      "testAccessKeySuperSecret\n",
      "super\n",
      "http://blob-store:8000\n"
     ]
    }
   ],
   "source": [
    "print(os.environ[\"AWS_ACCESS_KEY_ID\"])\n",
    "print(os.environ[\"AWS_SECRET_ACCESS_KEY\"])\n",
    "print(os.environ[\"BLOB_STORE_BUCKET\"])\n",
    "print(os.environ[\"BLOB_STORE_URL\"])"
   ]
  },
  {
   "cell_type": "code",
   "execution_count": 6,
   "id": "348a330e-6f65-4162-8b14-22e8222ebf70",
   "metadata": {},
   "outputs": [],
   "source": [
    "session = boto3.session.Session()\n",
    "\n",
    "s3_client = session.client(\n",
    "    service_name='s3',\n",
    "    aws_access_key_id=os.environ[\"AWS_ACCESS_KEY_ID\"],\n",
    "    aws_secret_access_key=os.environ[\"AWS_SECRET_ACCESS_KEY\"],\n",
    "    endpoint_url=os.environ[\"BLOB_STORE_URL\"],\n",
    ")"
   ]
  },
  {
   "cell_type": "code",
   "execution_count": 7,
   "id": "517979f8-cc98-4bea-8bfd-ae342ae83ea0",
   "metadata": {},
   "outputs": [
    {
     "name": "stdout",
     "output_type": "stream",
     "text": [
      "{'ResponseMetadata': {'RequestId': 'c9f7510778498cbb3c48', 'HostId': 'c9f7510778498cbb3c48', 'HTTPStatusCode': 200, 'HTTPHeaders': {'server': 'S3 Server', 'x-amz-id-2': 'c9f7510778498cbb3c48', 'x-amz-request-id': 'c9f7510778498cbb3c48', 'content-type': 'application/xml', 'date': 'Wed, 08 Dec 2021 17:03:22 GMT', 'connection': 'keep-alive', 'transfer-encoding': 'chunked'}, 'RetryAttempts': 0}, 'Buckets': [{'Name': 'george', 'CreationDate': datetime.datetime(2021, 8, 4, 20, 26, 57, 567000, tzinfo=tzlocal())}, {'Name': 'reese', 'CreationDate': datetime.datetime(2021, 8, 5, 20, 54, 13, 284000, tzinfo=tzlocal())}, {'Name': 'super', 'CreationDate': datetime.datetime(2021, 8, 11, 14, 49, 1, 428000, tzinfo=tzlocal())}, {'Name': 'test-bucket', 'CreationDate': datetime.datetime(2021, 8, 4, 19, 37, 39, 497000, tzinfo=tzlocal())}, {'Name': 'tonysappe', 'CreationDate': datetime.datetime(2021, 8, 4, 20, 35, 1, 828000, tzinfo=tzlocal())}], 'Owner': {'DisplayName': 'CustomAccount', 'ID': '12349df900b949e55d96a1e698fbacedfd6e09d98eacf8f8d5218e7cd47qwer'}}\n"
     ]
    }
   ],
   "source": [
    "print(s3_client.list_buckets())"
   ]
  },
  {
   "cell_type": "code",
   "execution_count": 9,
   "id": "b2d5ef6b-646c-4888-8e23-b67400dbc5ec",
   "metadata": {},
   "outputs": [
    {
     "data": {
      "text/plain": [
       "{'ResponseMetadata': {'RequestId': '0b96d1633647b2dc0cda',\n",
       "  'HostId': '0b96d1633647b2dc0cda',\n",
       "  'HTTPStatusCode': 200,\n",
       "  'HTTPHeaders': {'server': 'S3 Server',\n",
       "   'x-amz-id-2': '0b96d1633647b2dc0cda',\n",
       "   'x-amz-request-id': '0b96d1633647b2dc0cda',\n",
       "   'content-type': 'application/xml',\n",
       "   'date': 'Wed, 08 Dec 2021 17:05:18 GMT',\n",
       "   'connection': 'keep-alive',\n",
       "   'transfer-encoding': 'chunked'},\n",
       "  'RetryAttempts': 0},\n",
       " 'IsTruncated': False,\n",
       " 'Marker': '',\n",
       " 'Name': 'super',\n",
       " 'Prefix': '',\n",
       " 'MaxKeys': 1000,\n",
       " 'EncodingType': 'url'}"
      ]
     },
     "execution_count": 9,
     "metadata": {},
     "output_type": "execute_result"
    }
   ],
   "source": [
    "s3_client.list_objects(Bucket=os.environ[\"BLOB_STORE_BUCKET\"])"
   ]
  },
  {
   "cell_type": "code",
   "execution_count": 16,
   "id": "77ac5b4b-9af6-4e1a-a5aa-1f51b5418af6",
   "metadata": {},
   "outputs": [],
   "source": [
    "# s3_client.put_object(\n",
    "#     Bucket=os.environ[\"BLOB_STORE_BUCKET\"],\n",
    "#     Key=\n",
    "# )\n",
    "s3_client.upload_file('data/Asteroid.csv', os.environ[\"BLOB_STORE_BUCKET\"], 'Asteroid.csv')"
   ]
  },
  {
   "cell_type": "code",
   "execution_count": 18,
   "id": "df0edd0e-be45-4622-95de-2395cfc79667",
   "metadata": {},
   "outputs": [
    {
     "data": {
      "text/plain": [
       "[{'Key': 'Asteroid.csv',\n",
       "  'LastModified': datetime.datetime(2021, 12, 8, 17, 21, 38, 556000, tzinfo=tzlocal()),\n",
       "  'ETag': '\"7a2b068146bb052700586d66c4552e8b-21\"',\n",
       "  'Size': 170117548,\n",
       "  'StorageClass': 'STANDARD',\n",
       "  'Owner': {'DisplayName': 'CustomAccount',\n",
       "   'ID': '12349df900b949e55d96a1e698fbacedfd6e09d98eacf8f8d5218e7cd47qwer'}}]"
      ]
     },
     "execution_count": 18,
     "metadata": {},
     "output_type": "execute_result"
    }
   ],
   "source": [
    "s3_client.list_objects(Bucket=os.environ[\"BLOB_STORE_BUCKET\"])[\"Contents\"]"
   ]
  },
  {
   "cell_type": "code",
   "execution_count": 20,
   "id": "f2c4e36c-e3a3-482f-b5ab-7e44cad1577e",
   "metadata": {},
   "outputs": [],
   "source": [
    "s3_client.download_file(os.environ[\"BLOB_STORE_BUCKET\"], 'Asteroid.csv', 'data/Asteroid2.csv')"
   ]
  },
  {
   "cell_type": "code",
   "execution_count": null,
   "id": "80c79471-0561-4c53-9c26-830a130ba1a2",
   "metadata": {},
   "outputs": [],
   "source": []
  }
 ],
 "metadata": {
  "kernelspec": {
   "display_name": "Python 3 (ipykernel)",
   "language": "python",
   "name": "python3"
  },
  "language_info": {
   "codemirror_mode": {
    "name": "ipython",
    "version": 3
   },
   "file_extension": ".py",
   "mimetype": "text/x-python",
   "name": "python",
   "nbconvert_exporter": "python",
   "pygments_lexer": "ipython3",
   "version": "3.7.12"
  }
 },
 "nbformat": 4,
 "nbformat_minor": 5
}
