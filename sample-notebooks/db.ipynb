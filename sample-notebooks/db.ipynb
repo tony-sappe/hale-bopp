{
 "cells": [
  {
   "cell_type": "markdown",
   "id": "6febd08d-2285-490a-8fb5-588ec1e79a17",
   "metadata": {},
   "source": [
    "# Basic DB Client"
   ]
  },
  {
   "cell_type": "code",
   "execution_count": 2,
   "id": "36df34d7-806e-4176-b0c7-0ea8e2f14e80",
   "metadata": {},
   "outputs": [],
   "source": [
    "import psycopg2\n",
    "import os"
   ]
  },
  {
   "cell_type": "code",
   "execution_count": 4,
   "id": "910443c3-7bc9-49dc-8201-b7ed0109517d",
   "metadata": {},
   "outputs": [
    {
     "data": {
      "text/plain": [
       "'postgres://super:super@db:5432/super'"
      ]
     },
     "execution_count": 4,
     "metadata": {},
     "output_type": "execute_result"
    }
   ],
   "source": [
    "os.environ[\"DATABASE_URL\"]"
   ]
  },
  {
   "cell_type": "code",
   "execution_count": 6,
   "id": "aebf98a7-3753-4de9-9549-5c8d94eb27fc",
   "metadata": {},
   "outputs": [],
   "source": [
    "with psycopg2.connect(dsn=os.environ[\"DATABASE_URL\"]) as connection:\n",
    "    with connection.cursor() as cursor:\n",
    "        cursor.execute(\"CREATE TABLE example (id serial, value text)\")"
   ]
  },
  {
   "cell_type": "code",
   "execution_count": 8,
   "id": "6bf0451f-034e-43e8-8a8d-e35b264f55b4",
   "metadata": {},
   "outputs": [
    {
     "name": "stdout",
     "output_type": "stream",
     "text": [
      "[]\n"
     ]
    }
   ],
   "source": [
    "with psycopg2.connect(dsn=os.environ[\"DATABASE_URL\"]) as connection:\n",
    "    with connection.cursor() as cursor:\n",
    "        cursor.execute(\"SELECT * FROM example\")\n",
    "        print(cursor.fetchall())"
   ]
  },
  {
   "cell_type": "code",
   "execution_count": 10,
   "id": "a43e43b8-febd-44de-960b-ba45d6e815fb",
   "metadata": {},
   "outputs": [],
   "source": [
    "with psycopg2.connect(dsn=os.environ[\"DATABASE_URL\"]) as connection:\n",
    "    with connection.cursor() as cursor:\n",
    "        cursor.execute(\"INSERT INTO example VALUES (1, 'yellow')\")"
   ]
  },
  {
   "cell_type": "code",
   "execution_count": 11,
   "id": "06a12849-825b-4145-912b-471a9f97d55a",
   "metadata": {},
   "outputs": [
    {
     "name": "stdout",
     "output_type": "stream",
     "text": [
      "[(1, 'yellow')]\n"
     ]
    }
   ],
   "source": [
    "with psycopg2.connect(dsn=os.environ[\"DATABASE_URL\"]) as connection:\n",
    "    with connection.cursor() as cursor:\n",
    "        cursor.execute(\"SELECT * FROM example\")\n",
    "        print(cursor.fetchall())"
   ]
  },
  {
   "cell_type": "markdown",
   "id": "76ec2db3-942b-4140-a403-9098432727f1",
   "metadata": {},
   "source": [
    "# Pandas"
   ]
  },
  {
   "cell_type": "code",
   "execution_count": 12,
   "id": "2893515a-fc73-4e0b-9c25-7c2ff97931d1",
   "metadata": {},
   "outputs": [],
   "source": [
    "import pandas as pd\n",
    "from sqlalchemy import create_engine"
   ]
  },
  {
   "cell_type": "code",
   "execution_count": 13,
   "id": "c3f67a9b-e4f4-46e7-8a61-c0c242b51da6",
   "metadata": {},
   "outputs": [
    {
     "data": {
      "text/html": [
       "<div>\n",
       "<style scoped>\n",
       "    .dataframe tbody tr th:only-of-type {\n",
       "        vertical-align: middle;\n",
       "    }\n",
       "\n",
       "    .dataframe tbody tr th {\n",
       "        vertical-align: top;\n",
       "    }\n",
       "\n",
       "    .dataframe thead th {\n",
       "        text-align: right;\n",
       "    }\n",
       "</style>\n",
       "<table border=\"1\" class=\"dataframe\">\n",
       "  <thead>\n",
       "    <tr style=\"text-align: right;\">\n",
       "      <th></th>\n",
       "      <th>object_id</th>\n",
       "      <th>mjd</th>\n",
       "      <th>passband</th>\n",
       "      <th>flux</th>\n",
       "      <th>flux_err</th>\n",
       "      <th>detected_bool</th>\n",
       "    </tr>\n",
       "  </thead>\n",
       "  <tbody>\n",
       "    <tr>\n",
       "      <th>0</th>\n",
       "      <td>10</td>\n",
       "      <td>56210.172</td>\n",
       "      <td>1</td>\n",
       "      <td>5.659</td>\n",
       "      <td>3.700</td>\n",
       "      <td>1</td>\n",
       "    </tr>\n",
       "    <tr>\n",
       "      <th>1</th>\n",
       "      <td>10</td>\n",
       "      <td>56210.188</td>\n",
       "      <td>2</td>\n",
       "      <td>21.320</td>\n",
       "      <td>3.245</td>\n",
       "      <td>1</td>\n",
       "    </tr>\n",
       "    <tr>\n",
       "      <th>2</th>\n",
       "      <td>10</td>\n",
       "      <td>56210.203</td>\n",
       "      <td>3</td>\n",
       "      <td>13.280</td>\n",
       "      <td>3.221</td>\n",
       "      <td>1</td>\n",
       "    </tr>\n",
       "    <tr>\n",
       "      <th>3</th>\n",
       "      <td>10</td>\n",
       "      <td>56210.234</td>\n",
       "      <td>4</td>\n",
       "      <td>9.579</td>\n",
       "      <td>3.850</td>\n",
       "      <td>1</td>\n",
       "    </tr>\n",
       "    <tr>\n",
       "      <th>4</th>\n",
       "      <td>10</td>\n",
       "      <td>56218.172</td>\n",
       "      <td>1</td>\n",
       "      <td>49.220</td>\n",
       "      <td>1.654</td>\n",
       "      <td>1</td>\n",
       "    </tr>\n",
       "  </tbody>\n",
       "</table>\n",
       "</div>"
      ],
      "text/plain": [
       "   object_id        mjd  passband    flux  flux_err  detected_bool\n",
       "0         10  56210.172         1   5.659     3.700              1\n",
       "1         10  56210.188         2  21.320     3.245              1\n",
       "2         10  56210.203         3  13.280     3.221              1\n",
       "3         10  56210.234         4   9.579     3.850              1\n",
       "4         10  56218.172         1  49.220     1.654              1"
      ]
     },
     "execution_count": 13,
     "metadata": {},
     "output_type": "execute_result"
    }
   ],
   "source": [
    "df = pd.read_csv(\"data/fake010.csv\")\n",
    "df.head()"
   ]
  },
  {
   "cell_type": "code",
   "execution_count": 18,
   "id": "a269f8a9-d6b0-4bcc-84f4-adb75da90318",
   "metadata": {},
   "outputs": [],
   "source": [
    "db_dsn = os.environ[\"DATABASE_URL\"].replace('postgres:', 'postgresql:')\n",
    "engine = create_engine(db_dsn, echo=False)\n",
    "df.to_sql(\"fake010\", engine, if_exists='fail', index=True)"
   ]
  },
  {
   "cell_type": "code",
   "execution_count": 21,
   "id": "4b08ffe8-fa5b-4303-8fe3-9886973d2372",
   "metadata": {},
   "outputs": [
    {
     "data": {
      "text/plain": [
       "[(0, 10, 56210.172, 1, 5.659, 3.7, 1),\n",
       " (1, 10, 56210.188, 2, 21.32, 3.245, 1),\n",
       " (2, 10, 56210.203, 3, 13.28, 3.221, 1),\n",
       " (3, 10, 56210.234, 4, 9.579, 3.85, 1),\n",
       " (4, 10, 56218.172, 1, 49.22, 1.654, 1),\n",
       " (5, 10, 56218.191, 2, 114.6, 2.376, 1),\n",
       " (6, 10, 56218.211, 3, 88.85, 2.261, 1),\n",
       " (7, 10, 56219.156, 4, 75.01, 2.394, 1),\n",
       " (8, 10, 56221.273, 1, 62.28, 4.17, 1),\n",
       " (9, 10, 56221.281, 2, 126.6, 6.115, 1),\n",
       " (10, 10, 56221.297, 3, 108.0, 4.943, 1),\n",
       " (11, 10, 56221.324, 4, 116.2, 14.57, 1),\n",
       " (12, 10, 56222.074, 1, 70.2, 6.099, 1),\n",
       " (13, 10, 56222.09, 2, 145.3, 3.803, 1),\n",
       " (14, 10, 56222.113, 3, 117.5, 4.002, 1),\n",
       " (15, 10, 56222.133, 4, 90.47, 5.337, 1),\n",
       " (16, 10, 56228.059, 1, 80.84, 7.881, 1),\n",
       " (17, 10, 56228.066, 2, 181.3, 4.168, 1),\n",
       " (18, 10, 56228.086, 3, 146.3, 5.814, 1),\n",
       " (19, 10, 56228.109, 4, 117.0, 4.681, 1),\n",
       " (20, 10, 56229.047, 1, 70.92, 23.99, 1),\n",
       " (21, 10, 56229.059, 2, 179.1, 5.126, 1),\n",
       " (22, 10, 56229.074, 3, 139.9, 6.038, 1),\n",
       " (23, 10, 56229.102, 4, 107.0, 5.249, 1),\n",
       " (24, 10, 56230.059, 1, 81.22, 6.783, 1),\n",
       " (25, 10, 56230.102, 2, 177.0, 4.431, 1),\n",
       " (26, 10, 56230.113, 3, 149.2, 5.892, 1),\n",
       " (27, 10, 56230.145, 4, 109.5, 3.365, 1),\n",
       " (28, 10, 56231.043, 1, 85.8, 6.295, 1),\n",
       " (29, 10, 56231.059, 2, 171.1, 4.114, 1),\n",
       " (30, 10, 56231.07, 3, 149.3, 5.089, 1),\n",
       " (31, 10, 56231.102, 4, 115.3, 3.926, 1),\n",
       " (32, 10, 56235.039, 1, 74.88, 5.434, 1),\n",
       " (33, 10, 56235.047, 2, 172.1, 4.948, 1),\n",
       " (34, 10, 56235.062, 3, 141.1, 4.974, 1),\n",
       " (35, 10, 56235.09, 4, 121.4, 8.543, 1),\n",
       " (36, 10, 56236.047, 1, 73.47, 5.141, 1),\n",
       " (37, 10, 56236.062, 2, 167.3, 4.137, 1),\n",
       " (38, 10, 56236.074, 3, 146.3, 5.913, 1),\n",
       " (39, 10, 56236.105, 4, 107.1, 5.687, 1),\n",
       " (40, 10, 56237.039, 1, 72.57, 3.503, 1),\n",
       " (41, 10, 56237.051, 2, 167.1, 3.851, 1),\n",
       " (42, 10, 56237.094, 3, 150.2, 3.772, 1),\n",
       " (43, 10, 56237.125, 4, 115.0, 4.28, 1),\n",
       " (44, 10, 56238.074, 1, 63.15, 2.857, 1),\n",
       " (45, 10, 56238.094, 2, 171.5, 3.602, 1),\n",
       " (46, 10, 56238.109, 3, 151.9, 3.95, 1),\n",
       " (47, 10, 56238.129, 4, 126.6, 3.908, 1),\n",
       " (48, 10, 56243.098, 1, 53.02, 2.451, 1),\n",
       " (49, 10, 56243.109, 2, 153.5, 3.337, 1),\n",
       " (50, 10, 56243.125, 3, 139.6, 3.677, 1),\n",
       " (51, 10, 56243.152, 4, 121.3, 3.415, 1),\n",
       " (52, 10, 56244.082, 1, 43.87, 2.404, 1),\n",
       " (53, 10, 56244.098, 2, 148.6, 3.249, 1),\n",
       " (54, 10, 56244.109, 3, 137.9, 3.672, 1),\n",
       " (55, 10, 56244.133, 4, 122.3, 3.76, 1),\n",
       " (56, 10, 56245.07, 1, 45.67, 1.99, 1),\n",
       " (57, 10, 56245.082, 2, 142.4, 3.013, 1),\n",
       " (58, 10, 56245.109, 3, 134.5, 4.103, 1),\n",
       " (59, 10, 56245.137, 4, 119.5, 3.617, 1),\n",
       " (60, 10, 56246.117, 1, 36.35, 6.664, 1),\n",
       " (61, 10, 56246.125, 2, 148.0, 3.996, 1),\n",
       " (62, 10, 56246.152, 3, 127.8, 3.115, 1),\n",
       " (63, 10, 56246.18, 4, 115.6, 2.903, 1),\n",
       " (64, 10, 56247.281, 1, 36.95, 1.713, 1),\n",
       " (65, 10, 56247.297, 2, 140.8, 2.892, 1),\n",
       " (66, 10, 56247.316, 3, 120.4, 3.016, 1),\n",
       " (67, 10, 56247.34, 4, 114.7, 3.289, 1),\n",
       " (68, 10, 56248.324, 1, 32.64, 1.869, 1),\n",
       " (69, 10, 56248.34, 2, 134.0, 2.865, 1),\n",
       " (70, 10, 56258.035, 3, 88.73, 10.03, 1),\n",
       " (71, 10, 56258.066, 4, 70.93, 4.185, 1),\n",
       " (72, 10, 56258.215, 1, 17.52, 4.968, 1),\n",
       " (73, 10, 56258.227, 2, 90.54, 2.941, 1),\n",
       " (74, 10, 56261.098, 1, 26.33, 8.852, 1),\n",
       " (75, 10, 56261.102, 2, 69.83, 3.671, 1),\n",
       " (76, 10, 56261.125, 3, 82.49, 4.17, 1),\n",
       " (77, 10, 56261.156, 4, 68.18, 3.346, 1),\n",
       " (78, 10, 56273.16, 1, 5.873, 1.766, 1),\n",
       " (79, 10, 56273.176, 2, 36.74, 1.414, 1),\n",
       " (80, 10, 56273.188, 3, 67.48, 2.401, 1),\n",
       " (81, 10, 56273.219, 4, 72.74, 2.636, 1),\n",
       " (82, 10, 56281.16, 1, 5.861, 2.086, 1),\n",
       " (83, 10, 56281.184, 2, 21.15, 1.348, 1),\n",
       " (84, 10, 56281.203, 3, 52.4, 2.064, 1),\n",
       " (85, 10, 56281.227, 4, 67.84, 2.623, 1),\n",
       " (86, 10, 56288.086, 1, 2.079, 4.853, 1),\n",
       " (87, 10, 56288.094, 2, 19.29, 2.15, 1),\n",
       " (88, 10, 56288.109, 3, 36.3, 3.141, 1),\n",
       " (89, 10, 56288.141, 4, 53.25, 2.773, 1),\n",
       " (90, 10, 56289.227, 1, 8.021, 6.495, 1),\n",
       " (91, 10, 56289.242, 2, 19.37, 2.73, 1),\n",
       " (92, 10, 56289.258, 3, 39.92, 5.144, 1),\n",
       " (93, 10, 56292.035, 4, 34.84, 2.167, 1),\n",
       " (94, 10, 56292.141, 1, 1.621, 3.057, 1),\n",
       " (95, 10, 56292.156, 2, 15.03, 1.768, 1),\n",
       " (96, 10, 56292.172, 3, 35.57, 2.746, 1),\n",
       " (97, 10, 56303.039, 1, 5.362, 1.384, 1),\n",
       " (98, 10, 56303.051, 2, 13.02, 0.943, 1),\n",
       " (99, 10, 56303.07, 3, 18.57, 1.466, 1),\n",
       " (100, 10, 56303.094, 4, 34.64, 2.306, 1),\n",
       " (101, 10, 56311.043, 1, 4.022, 2.674, 1),\n",
       " (102, 10, 56311.055, 2, 14.27, 1.527, 1),\n",
       " (103, 10, 56311.074, 3, 25.31, 2.441, 1),\n",
       " (104, 10, 56311.098, 4, 27.68, 2.492, 1),\n",
       " (105, 10, 56317.125, 1, 9.175, 4.222, 1),\n",
       " (106, 10, 56317.141, 2, 10.98, 1.877, 1),\n",
       " (107, 10, 56318.109, 3, 24.8, 2.825, 1),\n",
       " (108, 10, 56318.141, 4, 21.88, 3.006, 1),\n",
       " (109, 10, 56321.09, 1, 2.743, 6.631, 1),\n",
       " (110, 10, 56321.098, 2, 10.24, 2.903, 1),\n",
       " (111, 10, 56321.109, 3, 23.41, 3.438, 1),\n",
       " (112, 10, 56321.141, 4, 28.58, 3.008, 1),\n",
       " (113, 10, 56332.039, 1, 2.939, 1.467, 1),\n",
       " (114, 10, 56332.051, 2, 14.87, 1.025, 1),\n",
       " (115, 10, 56332.07, 3, 23.66, 1.653, 1),\n",
       " (116, 10, 56332.094, 4, 26.18, 2.626, 1)]"
      ]
     },
     "execution_count": 21,
     "metadata": {},
     "output_type": "execute_result"
    }
   ],
   "source": [
    "engine.execute(\"SELECT * FROM fake010\").fetchall()"
   ]
  },
  {
   "cell_type": "code",
   "execution_count": 22,
   "id": "989eca5f-d939-4ab8-a431-93546b21cf64",
   "metadata": {},
   "outputs": [],
   "source": [
    "with psycopg2.connect(dsn=os.environ[\"DATABASE_URL\"]) as connection:\n",
    "    with connection.cursor(cursor_factory = psycopg2.extras.RealDictCursor) as cursor:\n",
    "        cursor.execute(\"SELECT * from fake010\")\n",
    "        res = cursor.fetchall()  "
   ]
  },
  {
   "cell_type": "code",
   "execution_count": 29,
   "id": "b2b03287-f42a-4369-80fb-5390656be8b5",
   "metadata": {},
   "outputs": [
    {
     "name": "stdout",
     "output_type": "stream",
     "text": [
      "RealDictRow([('index', 0), ('object_id', 10), ('mjd', 56210.172), ('passband', 1), ('flux', 5.659), ('flux_err', 3.7), ('detected_bool', 1)])\n",
      "RealDictRow([('index', 1), ('object_id', 10), ('mjd', 56210.188), ('passband', 2), ('flux', 21.32), ('flux_err', 3.245), ('detected_bool', 1)])\n",
      "RealDictRow([('index', 2), ('object_id', 10), ('mjd', 56210.203), ('passband', 3), ('flux', 13.28), ('flux_err', 3.221), ('detected_bool', 1)])\n",
      "RealDictRow([('index', 3), ('object_id', 10), ('mjd', 56210.234), ('passband', 4), ('flux', 9.579), ('flux_err', 3.85), ('detected_bool', 1)])\n",
      "RealDictRow([('index', 4), ('object_id', 10), ('mjd', 56218.172), ('passband', 1), ('flux', 49.22), ('flux_err', 1.654), ('detected_bool', 1)])\n",
      "RealDictRow([('index', 5), ('object_id', 10), ('mjd', 56218.191), ('passband', 2), ('flux', 114.6), ('flux_err', 2.376), ('detected_bool', 1)])\n",
      "RealDictRow([('index', 6), ('object_id', 10), ('mjd', 56218.211), ('passband', 3), ('flux', 88.85), ('flux_err', 2.261), ('detected_bool', 1)])\n",
      "RealDictRow([('index', 7), ('object_id', 10), ('mjd', 56219.156), ('passband', 4), ('flux', 75.01), ('flux_err', 2.394), ('detected_bool', 1)])\n",
      "RealDictRow([('index', 8), ('object_id', 10), ('mjd', 56221.273), ('passband', 1), ('flux', 62.28), ('flux_err', 4.17), ('detected_bool', 1)])\n",
      "RealDictRow([('index', 9), ('object_id', 10), ('mjd', 56221.281), ('passband', 2), ('flux', 126.6), ('flux_err', 6.115), ('detected_bool', 1)])\n",
      "RealDictRow([('index', 10), ('object_id', 10), ('mjd', 56221.297), ('passband', 3), ('flux', 108.0), ('flux_err', 4.943), ('detected_bool', 1)])\n",
      "RealDictRow([('index', 11), ('object_id', 10), ('mjd', 56221.324), ('passband', 4), ('flux', 116.2), ('flux_err', 14.57), ('detected_bool', 1)])\n",
      "RealDictRow([('index', 12), ('object_id', 10), ('mjd', 56222.074), ('passband', 1), ('flux', 70.2), ('flux_err', 6.099), ('detected_bool', 1)])\n",
      "RealDictRow([('index', 13), ('object_id', 10), ('mjd', 56222.09), ('passband', 2), ('flux', 145.3), ('flux_err', 3.803), ('detected_bool', 1)])\n",
      "RealDictRow([('index', 14), ('object_id', 10), ('mjd', 56222.113), ('passband', 3), ('flux', 117.5), ('flux_err', 4.002), ('detected_bool', 1)])\n",
      "RealDictRow([('index', 15), ('object_id', 10), ('mjd', 56222.133), ('passband', 4), ('flux', 90.47), ('flux_err', 5.337), ('detected_bool', 1)])\n",
      "RealDictRow([('index', 16), ('object_id', 10), ('mjd', 56228.059), ('passband', 1), ('flux', 80.84), ('flux_err', 7.881), ('detected_bool', 1)])\n",
      "RealDictRow([('index', 17), ('object_id', 10), ('mjd', 56228.066), ('passband', 2), ('flux', 181.3), ('flux_err', 4.168), ('detected_bool', 1)])\n",
      "RealDictRow([('index', 18), ('object_id', 10), ('mjd', 56228.086), ('passband', 3), ('flux', 146.3), ('flux_err', 5.814), ('detected_bool', 1)])\n",
      "RealDictRow([('index', 19), ('object_id', 10), ('mjd', 56228.109), ('passband', 4), ('flux', 117.0), ('flux_err', 4.681), ('detected_bool', 1)])\n",
      "RealDictRow([('index', 20), ('object_id', 10), ('mjd', 56229.047), ('passband', 1), ('flux', 70.92), ('flux_err', 23.99), ('detected_bool', 1)])\n",
      "RealDictRow([('index', 21), ('object_id', 10), ('mjd', 56229.059), ('passband', 2), ('flux', 179.1), ('flux_err', 5.126), ('detected_bool', 1)])\n",
      "RealDictRow([('index', 22), ('object_id', 10), ('mjd', 56229.074), ('passband', 3), ('flux', 139.9), ('flux_err', 6.038), ('detected_bool', 1)])\n",
      "RealDictRow([('index', 23), ('object_id', 10), ('mjd', 56229.102), ('passband', 4), ('flux', 107.0), ('flux_err', 5.249), ('detected_bool', 1)])\n",
      "RealDictRow([('index', 24), ('object_id', 10), ('mjd', 56230.059), ('passband', 1), ('flux', 81.22), ('flux_err', 6.783), ('detected_bool', 1)])\n",
      "RealDictRow([('index', 25), ('object_id', 10), ('mjd', 56230.102), ('passband', 2), ('flux', 177.0), ('flux_err', 4.431), ('detected_bool', 1)])\n",
      "RealDictRow([('index', 26), ('object_id', 10), ('mjd', 56230.113), ('passband', 3), ('flux', 149.2), ('flux_err', 5.892), ('detected_bool', 1)])\n",
      "RealDictRow([('index', 27), ('object_id', 10), ('mjd', 56230.145), ('passband', 4), ('flux', 109.5), ('flux_err', 3.365), ('detected_bool', 1)])\n",
      "RealDictRow([('index', 28), ('object_id', 10), ('mjd', 56231.043), ('passband', 1), ('flux', 85.8), ('flux_err', 6.295), ('detected_bool', 1)])\n",
      "RealDictRow([('index', 29), ('object_id', 10), ('mjd', 56231.059), ('passband', 2), ('flux', 171.1), ('flux_err', 4.114), ('detected_bool', 1)])\n",
      "RealDictRow([('index', 30), ('object_id', 10), ('mjd', 56231.07), ('passband', 3), ('flux', 149.3), ('flux_err', 5.089), ('detected_bool', 1)])\n",
      "RealDictRow([('index', 31), ('object_id', 10), ('mjd', 56231.102), ('passband', 4), ('flux', 115.3), ('flux_err', 3.926), ('detected_bool', 1)])\n",
      "RealDictRow([('index', 32), ('object_id', 10), ('mjd', 56235.039), ('passband', 1), ('flux', 74.88), ('flux_err', 5.434), ('detected_bool', 1)])\n",
      "RealDictRow([('index', 33), ('object_id', 10), ('mjd', 56235.047), ('passband', 2), ('flux', 172.1), ('flux_err', 4.948), ('detected_bool', 1)])\n",
      "RealDictRow([('index', 34), ('object_id', 10), ('mjd', 56235.062), ('passband', 3), ('flux', 141.1), ('flux_err', 4.974), ('detected_bool', 1)])\n",
      "RealDictRow([('index', 35), ('object_id', 10), ('mjd', 56235.09), ('passband', 4), ('flux', 121.4), ('flux_err', 8.543), ('detected_bool', 1)])\n",
      "RealDictRow([('index', 36), ('object_id', 10), ('mjd', 56236.047), ('passband', 1), ('flux', 73.47), ('flux_err', 5.141), ('detected_bool', 1)])\n",
      "RealDictRow([('index', 37), ('object_id', 10), ('mjd', 56236.062), ('passband', 2), ('flux', 167.3), ('flux_err', 4.137), ('detected_bool', 1)])\n",
      "RealDictRow([('index', 38), ('object_id', 10), ('mjd', 56236.074), ('passband', 3), ('flux', 146.3), ('flux_err', 5.913), ('detected_bool', 1)])\n",
      "RealDictRow([('index', 39), ('object_id', 10), ('mjd', 56236.105), ('passband', 4), ('flux', 107.1), ('flux_err', 5.687), ('detected_bool', 1)])\n",
      "RealDictRow([('index', 40), ('object_id', 10), ('mjd', 56237.039), ('passband', 1), ('flux', 72.57), ('flux_err', 3.503), ('detected_bool', 1)])\n",
      "RealDictRow([('index', 41), ('object_id', 10), ('mjd', 56237.051), ('passband', 2), ('flux', 167.1), ('flux_err', 3.851), ('detected_bool', 1)])\n",
      "RealDictRow([('index', 42), ('object_id', 10), ('mjd', 56237.094), ('passband', 3), ('flux', 150.2), ('flux_err', 3.772), ('detected_bool', 1)])\n",
      "RealDictRow([('index', 43), ('object_id', 10), ('mjd', 56237.125), ('passband', 4), ('flux', 115.0), ('flux_err', 4.28), ('detected_bool', 1)])\n",
      "RealDictRow([('index', 44), ('object_id', 10), ('mjd', 56238.074), ('passband', 1), ('flux', 63.15), ('flux_err', 2.857), ('detected_bool', 1)])\n",
      "RealDictRow([('index', 45), ('object_id', 10), ('mjd', 56238.094), ('passband', 2), ('flux', 171.5), ('flux_err', 3.602), ('detected_bool', 1)])\n",
      "RealDictRow([('index', 46), ('object_id', 10), ('mjd', 56238.109), ('passband', 3), ('flux', 151.9), ('flux_err', 3.95), ('detected_bool', 1)])\n",
      "RealDictRow([('index', 47), ('object_id', 10), ('mjd', 56238.129), ('passband', 4), ('flux', 126.6), ('flux_err', 3.908), ('detected_bool', 1)])\n",
      "RealDictRow([('index', 48), ('object_id', 10), ('mjd', 56243.098), ('passband', 1), ('flux', 53.02), ('flux_err', 2.451), ('detected_bool', 1)])\n",
      "RealDictRow([('index', 49), ('object_id', 10), ('mjd', 56243.109), ('passband', 2), ('flux', 153.5), ('flux_err', 3.337), ('detected_bool', 1)])\n",
      "RealDictRow([('index', 50), ('object_id', 10), ('mjd', 56243.125), ('passband', 3), ('flux', 139.6), ('flux_err', 3.677), ('detected_bool', 1)])\n",
      "RealDictRow([('index', 51), ('object_id', 10), ('mjd', 56243.152), ('passband', 4), ('flux', 121.3), ('flux_err', 3.415), ('detected_bool', 1)])\n",
      "RealDictRow([('index', 52), ('object_id', 10), ('mjd', 56244.082), ('passband', 1), ('flux', 43.87), ('flux_err', 2.404), ('detected_bool', 1)])\n",
      "RealDictRow([('index', 53), ('object_id', 10), ('mjd', 56244.098), ('passband', 2), ('flux', 148.6), ('flux_err', 3.249), ('detected_bool', 1)])\n",
      "RealDictRow([('index', 54), ('object_id', 10), ('mjd', 56244.109), ('passband', 3), ('flux', 137.9), ('flux_err', 3.672), ('detected_bool', 1)])\n",
      "RealDictRow([('index', 55), ('object_id', 10), ('mjd', 56244.133), ('passband', 4), ('flux', 122.3), ('flux_err', 3.76), ('detected_bool', 1)])\n",
      "RealDictRow([('index', 56), ('object_id', 10), ('mjd', 56245.07), ('passband', 1), ('flux', 45.67), ('flux_err', 1.99), ('detected_bool', 1)])\n",
      "RealDictRow([('index', 57), ('object_id', 10), ('mjd', 56245.082), ('passband', 2), ('flux', 142.4), ('flux_err', 3.013), ('detected_bool', 1)])\n",
      "RealDictRow([('index', 58), ('object_id', 10), ('mjd', 56245.109), ('passband', 3), ('flux', 134.5), ('flux_err', 4.103), ('detected_bool', 1)])\n",
      "RealDictRow([('index', 59), ('object_id', 10), ('mjd', 56245.137), ('passband', 4), ('flux', 119.5), ('flux_err', 3.617), ('detected_bool', 1)])\n",
      "RealDictRow([('index', 60), ('object_id', 10), ('mjd', 56246.117), ('passband', 1), ('flux', 36.35), ('flux_err', 6.664), ('detected_bool', 1)])\n",
      "RealDictRow([('index', 61), ('object_id', 10), ('mjd', 56246.125), ('passband', 2), ('flux', 148.0), ('flux_err', 3.996), ('detected_bool', 1)])\n",
      "RealDictRow([('index', 62), ('object_id', 10), ('mjd', 56246.152), ('passband', 3), ('flux', 127.8), ('flux_err', 3.115), ('detected_bool', 1)])\n",
      "RealDictRow([('index', 63), ('object_id', 10), ('mjd', 56246.18), ('passband', 4), ('flux', 115.6), ('flux_err', 2.903), ('detected_bool', 1)])\n",
      "RealDictRow([('index', 64), ('object_id', 10), ('mjd', 56247.281), ('passband', 1), ('flux', 36.95), ('flux_err', 1.713), ('detected_bool', 1)])\n",
      "RealDictRow([('index', 65), ('object_id', 10), ('mjd', 56247.297), ('passband', 2), ('flux', 140.8), ('flux_err', 2.892), ('detected_bool', 1)])\n",
      "RealDictRow([('index', 66), ('object_id', 10), ('mjd', 56247.316), ('passband', 3), ('flux', 120.4), ('flux_err', 3.016), ('detected_bool', 1)])\n",
      "RealDictRow([('index', 67), ('object_id', 10), ('mjd', 56247.34), ('passband', 4), ('flux', 114.7), ('flux_err', 3.289), ('detected_bool', 1)])\n",
      "RealDictRow([('index', 68), ('object_id', 10), ('mjd', 56248.324), ('passband', 1), ('flux', 32.64), ('flux_err', 1.869), ('detected_bool', 1)])\n",
      "RealDictRow([('index', 69), ('object_id', 10), ('mjd', 56248.34), ('passband', 2), ('flux', 134.0), ('flux_err', 2.865), ('detected_bool', 1)])\n",
      "RealDictRow([('index', 70), ('object_id', 10), ('mjd', 56258.035), ('passband', 3), ('flux', 88.73), ('flux_err', 10.03), ('detected_bool', 1)])\n",
      "RealDictRow([('index', 71), ('object_id', 10), ('mjd', 56258.066), ('passband', 4), ('flux', 70.93), ('flux_err', 4.185), ('detected_bool', 1)])\n",
      "RealDictRow([('index', 72), ('object_id', 10), ('mjd', 56258.215), ('passband', 1), ('flux', 17.52), ('flux_err', 4.968), ('detected_bool', 1)])\n",
      "RealDictRow([('index', 73), ('object_id', 10), ('mjd', 56258.227), ('passband', 2), ('flux', 90.54), ('flux_err', 2.941), ('detected_bool', 1)])\n",
      "RealDictRow([('index', 74), ('object_id', 10), ('mjd', 56261.098), ('passband', 1), ('flux', 26.33), ('flux_err', 8.852), ('detected_bool', 1)])\n",
      "RealDictRow([('index', 75), ('object_id', 10), ('mjd', 56261.102), ('passband', 2), ('flux', 69.83), ('flux_err', 3.671), ('detected_bool', 1)])\n",
      "RealDictRow([('index', 76), ('object_id', 10), ('mjd', 56261.125), ('passband', 3), ('flux', 82.49), ('flux_err', 4.17), ('detected_bool', 1)])\n",
      "RealDictRow([('index', 77), ('object_id', 10), ('mjd', 56261.156), ('passband', 4), ('flux', 68.18), ('flux_err', 3.346), ('detected_bool', 1)])\n",
      "RealDictRow([('index', 78), ('object_id', 10), ('mjd', 56273.16), ('passband', 1), ('flux', 5.873), ('flux_err', 1.766), ('detected_bool', 1)])\n",
      "RealDictRow([('index', 79), ('object_id', 10), ('mjd', 56273.176), ('passband', 2), ('flux', 36.74), ('flux_err', 1.414), ('detected_bool', 1)])\n",
      "RealDictRow([('index', 80), ('object_id', 10), ('mjd', 56273.188), ('passband', 3), ('flux', 67.48), ('flux_err', 2.401), ('detected_bool', 1)])\n",
      "RealDictRow([('index', 81), ('object_id', 10), ('mjd', 56273.219), ('passband', 4), ('flux', 72.74), ('flux_err', 2.636), ('detected_bool', 1)])\n",
      "RealDictRow([('index', 82), ('object_id', 10), ('mjd', 56281.16), ('passband', 1), ('flux', 5.861), ('flux_err', 2.086), ('detected_bool', 1)])\n",
      "RealDictRow([('index', 83), ('object_id', 10), ('mjd', 56281.184), ('passband', 2), ('flux', 21.15), ('flux_err', 1.348), ('detected_bool', 1)])\n",
      "RealDictRow([('index', 84), ('object_id', 10), ('mjd', 56281.203), ('passband', 3), ('flux', 52.4), ('flux_err', 2.064), ('detected_bool', 1)])\n",
      "RealDictRow([('index', 85), ('object_id', 10), ('mjd', 56281.227), ('passband', 4), ('flux', 67.84), ('flux_err', 2.623), ('detected_bool', 1)])\n",
      "RealDictRow([('index', 86), ('object_id', 10), ('mjd', 56288.086), ('passband', 1), ('flux', 2.079), ('flux_err', 4.853), ('detected_bool', 1)])\n",
      "RealDictRow([('index', 87), ('object_id', 10), ('mjd', 56288.094), ('passband', 2), ('flux', 19.29), ('flux_err', 2.15), ('detected_bool', 1)])\n",
      "RealDictRow([('index', 88), ('object_id', 10), ('mjd', 56288.109), ('passband', 3), ('flux', 36.3), ('flux_err', 3.141), ('detected_bool', 1)])\n",
      "RealDictRow([('index', 89), ('object_id', 10), ('mjd', 56288.141), ('passband', 4), ('flux', 53.25), ('flux_err', 2.773), ('detected_bool', 1)])\n",
      "RealDictRow([('index', 90), ('object_id', 10), ('mjd', 56289.227), ('passband', 1), ('flux', 8.021), ('flux_err', 6.495), ('detected_bool', 1)])\n",
      "RealDictRow([('index', 91), ('object_id', 10), ('mjd', 56289.242), ('passband', 2), ('flux', 19.37), ('flux_err', 2.73), ('detected_bool', 1)])\n",
      "RealDictRow([('index', 92), ('object_id', 10), ('mjd', 56289.258), ('passband', 3), ('flux', 39.92), ('flux_err', 5.144), ('detected_bool', 1)])\n",
      "RealDictRow([('index', 93), ('object_id', 10), ('mjd', 56292.035), ('passband', 4), ('flux', 34.84), ('flux_err', 2.167), ('detected_bool', 1)])\n",
      "RealDictRow([('index', 94), ('object_id', 10), ('mjd', 56292.141), ('passband', 1), ('flux', 1.621), ('flux_err', 3.057), ('detected_bool', 1)])\n",
      "RealDictRow([('index', 95), ('object_id', 10), ('mjd', 56292.156), ('passband', 2), ('flux', 15.03), ('flux_err', 1.768), ('detected_bool', 1)])\n",
      "RealDictRow([('index', 96), ('object_id', 10), ('mjd', 56292.172), ('passband', 3), ('flux', 35.57), ('flux_err', 2.746), ('detected_bool', 1)])\n",
      "RealDictRow([('index', 97), ('object_id', 10), ('mjd', 56303.039), ('passband', 1), ('flux', 5.362), ('flux_err', 1.384), ('detected_bool', 1)])\n",
      "RealDictRow([('index', 98), ('object_id', 10), ('mjd', 56303.051), ('passband', 2), ('flux', 13.02), ('flux_err', 0.943), ('detected_bool', 1)])\n",
      "RealDictRow([('index', 99), ('object_id', 10), ('mjd', 56303.07), ('passband', 3), ('flux', 18.57), ('flux_err', 1.466), ('detected_bool', 1)])\n",
      "RealDictRow([('index', 100), ('object_id', 10), ('mjd', 56303.094), ('passband', 4), ('flux', 34.64), ('flux_err', 2.306), ('detected_bool', 1)])\n",
      "RealDictRow([('index', 101), ('object_id', 10), ('mjd', 56311.043), ('passband', 1), ('flux', 4.022), ('flux_err', 2.674), ('detected_bool', 1)])\n",
      "RealDictRow([('index', 102), ('object_id', 10), ('mjd', 56311.055), ('passband', 2), ('flux', 14.27), ('flux_err', 1.527), ('detected_bool', 1)])\n",
      "RealDictRow([('index', 103), ('object_id', 10), ('mjd', 56311.074), ('passband', 3), ('flux', 25.31), ('flux_err', 2.441), ('detected_bool', 1)])\n",
      "RealDictRow([('index', 104), ('object_id', 10), ('mjd', 56311.098), ('passband', 4), ('flux', 27.68), ('flux_err', 2.492), ('detected_bool', 1)])\n",
      "RealDictRow([('index', 105), ('object_id', 10), ('mjd', 56317.125), ('passband', 1), ('flux', 9.175), ('flux_err', 4.222), ('detected_bool', 1)])\n",
      "RealDictRow([('index', 106), ('object_id', 10), ('mjd', 56317.141), ('passband', 2), ('flux', 10.98), ('flux_err', 1.877), ('detected_bool', 1)])\n",
      "RealDictRow([('index', 107), ('object_id', 10), ('mjd', 56318.109), ('passband', 3), ('flux', 24.8), ('flux_err', 2.825), ('detected_bool', 1)])\n",
      "RealDictRow([('index', 108), ('object_id', 10), ('mjd', 56318.141), ('passband', 4), ('flux', 21.88), ('flux_err', 3.006), ('detected_bool', 1)])\n",
      "RealDictRow([('index', 109), ('object_id', 10), ('mjd', 56321.09), ('passband', 1), ('flux', 2.743), ('flux_err', 6.631), ('detected_bool', 1)])\n",
      "RealDictRow([('index', 110), ('object_id', 10), ('mjd', 56321.098), ('passband', 2), ('flux', 10.24), ('flux_err', 2.903), ('detected_bool', 1)])\n",
      "RealDictRow([('index', 111), ('object_id', 10), ('mjd', 56321.109), ('passband', 3), ('flux', 23.41), ('flux_err', 3.438), ('detected_bool', 1)])\n",
      "RealDictRow([('index', 112), ('object_id', 10), ('mjd', 56321.141), ('passband', 4), ('flux', 28.58), ('flux_err', 3.008), ('detected_bool', 1)])\n",
      "RealDictRow([('index', 113), ('object_id', 10), ('mjd', 56332.039), ('passband', 1), ('flux', 2.939), ('flux_err', 1.467), ('detected_bool', 1)])\n",
      "RealDictRow([('index', 114), ('object_id', 10), ('mjd', 56332.051), ('passband', 2), ('flux', 14.87), ('flux_err', 1.025), ('detected_bool', 1)])\n",
      "RealDictRow([('index', 115), ('object_id', 10), ('mjd', 56332.07), ('passband', 3), ('flux', 23.66), ('flux_err', 1.653), ('detected_bool', 1)])\n",
      "RealDictRow([('index', 116), ('object_id', 10), ('mjd', 56332.094), ('passband', 4), ('flux', 26.18), ('flux_err', 2.626), ('detected_bool', 1)])\n"
     ]
    }
   ],
   "source": [
    "for row in res:\n",
    "    print(row)"
   ]
  }
 ],
 "metadata": {
  "kernelspec": {
   "display_name": "Python 3 (ipykernel)",
   "language": "python",
   "name": "python3"
  },
  "language_info": {
   "codemirror_mode": {
    "name": "ipython",
    "version": 3
   },
   "file_extension": ".py",
   "mimetype": "text/x-python",
   "name": "python",
   "nbconvert_exporter": "python",
   "pygments_lexer": "ipython3",
   "version": "3.7.12"
  }
 },
 "nbformat": 4,
 "nbformat_minor": 5
}
